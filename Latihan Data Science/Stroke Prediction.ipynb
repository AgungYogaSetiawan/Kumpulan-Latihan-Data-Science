{
 "cells": [
  {
   "cell_type": "raw",
   "id": "f29923f8",
   "metadata": {},
   "source": [
    "Attribute Information\n",
    "1) id: unique identifier\n",
    "2) gender: \"Male\", \"Female\" or \"Other\"\n",
    "3) age: age of the patient\n",
    "4) hypertension: 0 if the patient doesn't have hypertension, 1 if the patient has hypertension\n",
    "5) heart_disease: 0 if the patient doesn't have any heart diseases, 1 if the patient has a heart disease\n",
    "6) ever_married: \"No\" or \"Yes\"\n",
    "7) work_type: \"children\", \"Govt_jov\", \"Never_worked\", \"Private\" or \"Self-employed\"\n",
    "8) Residence_type: \"Rural\" or \"Urban\"\n",
    "9) avg_glucose_level: average glucose level in blood\n",
    "10) bmi: body mass index\n",
    "11) smoking_status: \"formerly smoked\", \"never smoked\", \"smokes\" or \"Unknown\"*\n",
    "12) stroke: 1 if the patient had a stroke or 0 if not\n",
    "*Note: \"Unknown\" in smoking_status means that the information is unavailable for this patient"
   ]
  },
  {
   "cell_type": "markdown",
   "id": "48b37ab1",
   "metadata": {},
   "source": [
    "## Import module"
   ]
  },
  {
   "cell_type": "code",
   "execution_count": null,
   "id": "2fdfd433",
   "metadata": {},
   "outputs": [],
   "source": [
    "import pandas as pd"
   ]
  },
  {
   "cell_type": "markdown",
   "id": "68c81732",
   "metadata": {},
   "source": [
    "## tampilkan dataset"
   ]
  },
  {
   "cell_type": "code",
   "execution_count": null,
   "id": "00b45d7e",
   "metadata": {},
   "outputs": [],
   "source": [
    "df = pd.read_csv('healthcare-dataset-stroke-data.csv')\n",
    "df.head(10)"
   ]
  },
  {
   "cell_type": "markdown",
   "id": "9b9c2a93",
   "metadata": {},
   "source": [
    "## drop kolom 'id'"
   ]
  },
  {
   "cell_type": "code",
   "execution_count": null,
   "id": "984cd6cf",
   "metadata": {},
   "outputs": [],
   "source": [
    "df.drop(columns='id',inplace=True)\n",
    "df.head(10)"
   ]
  },
  {
   "cell_type": "markdown",
   "id": "293c955f",
   "metadata": {},
   "source": [
    "### melihat dimensi dataset"
   ]
  },
  {
   "cell_type": "code",
   "execution_count": null,
   "id": "b5af38f1",
   "metadata": {},
   "outputs": [],
   "source": [
    "df.shape"
   ]
  },
  {
   "cell_type": "markdown",
   "id": "4ea05740",
   "metadata": {},
   "source": [
    "### menampilkan kolom-kolom pada dataset"
   ]
  },
  {
   "cell_type": "code",
   "execution_count": null,
   "id": "05a7c9d8",
   "metadata": {},
   "outputs": [],
   "source": [
    "df.columns"
   ]
  },
  {
   "cell_type": "markdown",
   "id": "bf673420",
   "metadata": {},
   "source": [
    "### menampilkan info dari dataset"
   ]
  },
  {
   "cell_type": "code",
   "execution_count": null,
   "id": "251df12e",
   "metadata": {},
   "outputs": [],
   "source": [
    "df.info()"
   ]
  },
  {
   "cell_type": "markdown",
   "id": "96fc82ad",
   "metadata": {},
   "source": [
    "### tipe data yang terdapat pada dataset"
   ]
  },
  {
   "cell_type": "code",
   "execution_count": null,
   "id": "de881bb4",
   "metadata": {},
   "outputs": [],
   "source": [
    "df.dtypes"
   ]
  },
  {
   "cell_type": "markdown",
   "id": "94bd0fdd",
   "metadata": {},
   "source": [
    "### merubah tipe data **age** menjadi int"
   ]
  },
  {
   "cell_type": "code",
   "execution_count": null,
   "id": "26e94ce9",
   "metadata": {},
   "outputs": [],
   "source": [
    "df['age'] = df['age'].astype('int64')"
   ]
  },
  {
   "cell_type": "code",
   "execution_count": null,
   "id": "386011ad",
   "metadata": {},
   "outputs": [],
   "source": [
    "df.dtypes"
   ]
  },
  {
   "cell_type": "code",
   "execution_count": null,
   "id": "ed720e88",
   "metadata": {},
   "outputs": [],
   "source": [
    "df.head()"
   ]
  },
  {
   "cell_type": "markdown",
   "id": "88bdd5b4",
   "metadata": {},
   "source": [
    "### menampilkan statistik deskriptif"
   ]
  },
  {
   "cell_type": "code",
   "execution_count": null,
   "id": "ef06f2e4",
   "metadata": {},
   "outputs": [],
   "source": [
    "df.describe()"
   ]
  },
  {
   "cell_type": "markdown",
   "id": "3a0a10af",
   "metadata": {},
   "source": [
    "### cek missing value"
   ]
  },
  {
   "cell_type": "code",
   "execution_count": null,
   "id": "84826d2d",
   "metadata": {},
   "outputs": [],
   "source": [
    "df.isna().any()"
   ]
  },
  {
   "cell_type": "code",
   "execution_count": null,
   "id": "ba54acb1",
   "metadata": {},
   "outputs": [],
   "source": [
    "df.isna().sum()"
   ]
  },
  {
   "cell_type": "markdown",
   "id": "a081f552",
   "metadata": {},
   "source": [
    "### drop missing value"
   ]
  },
  {
   "cell_type": "code",
   "execution_count": null,
   "id": "738ac102",
   "metadata": {},
   "outputs": [],
   "source": [
    "df.dropna(axis=0,inplace=True)\n",
    "df.shape"
   ]
  },
  {
   "cell_type": "code",
   "execution_count": null,
   "id": "5f3247d4",
   "metadata": {},
   "outputs": [],
   "source": [
    "df"
   ]
  },
  {
   "cell_type": "code",
   "execution_count": null,
   "id": "99a2def6",
   "metadata": {},
   "outputs": [],
   "source": [
    "df.describe()"
   ]
  },
  {
   "cell_type": "markdown",
   "id": "23f2b193",
   "metadata": {},
   "source": [
    "### menampilkan korelasi dataset"
   ]
  },
  {
   "cell_type": "code",
   "execution_count": null,
   "id": "d2c5c8fc",
   "metadata": {},
   "outputs": [],
   "source": [
    "df.corr()"
   ]
  },
  {
   "cell_type": "markdown",
   "id": "cb515f62",
   "metadata": {},
   "source": [
    "### avg_glucose_level tertinggi"
   ]
  },
  {
   "cell_type": "code",
   "execution_count": null,
   "id": "f3b5d775",
   "metadata": {},
   "outputs": [],
   "source": [
    "df['avg_glucose_level'].max()"
   ]
  },
  {
   "cell_type": "markdown",
   "id": "d6779464",
   "metadata": {},
   "source": [
    "### membuat variabel untuk menampung avg_glucose_level setiap age"
   ]
  },
  {
   "cell_type": "code",
   "execution_count": null,
   "id": "0afd4a67",
   "metadata": {},
   "outputs": [],
   "source": []
  },
  {
   "cell_type": "markdown",
   "id": "ec3bd244",
   "metadata": {},
   "source": [
    "# visualisasi data dengan matplotlib dan seaborn"
   ]
  },
  {
   "cell_type": "markdown",
   "id": "3e05de44",
   "metadata": {},
   "source": [
    "### import matplotlib dan seaborn"
   ]
  },
  {
   "cell_type": "code",
   "execution_count": null,
   "id": "82208c8e",
   "metadata": {},
   "outputs": [],
   "source": [
    "import matplotlib.pyplot as plt\n",
    "import seaborn as sns\n",
    "\n",
    "%matplotlib inline"
   ]
  },
  {
   "cell_type": "markdown",
   "id": "555dac1c",
   "metadata": {},
   "source": [
    "### heatmap"
   ]
  },
  {
   "cell_type": "code",
   "execution_count": null,
   "id": "9006d017",
   "metadata": {},
   "outputs": [],
   "source": [
    "sns.heatmap(df.corr())"
   ]
  },
  {
   "cell_type": "code",
   "execution_count": null,
   "id": "e7df58d6",
   "metadata": {},
   "outputs": [],
   "source": []
  }
 ],
 "metadata": {
  "kernelspec": {
   "display_name": "Python 3",
   "language": "python",
   "name": "python3"
  },
  "language_info": {
   "codemirror_mode": {
    "name": "ipython",
    "version": 3
   },
   "file_extension": ".py",
   "mimetype": "text/x-python",
   "name": "python",
   "nbconvert_exporter": "python",
   "pygments_lexer": "ipython3",
   "version": "3.8.8"
  }
 },
 "nbformat": 4,
 "nbformat_minor": 5
}
