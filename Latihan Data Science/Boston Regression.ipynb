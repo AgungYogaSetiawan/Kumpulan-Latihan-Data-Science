{
 "cells": [
  {
   "cell_type": "markdown",
   "id": "8d5d5f71",
   "metadata": {},
   "source": [
    "## Boston Housing Price Regression\n",
    "\n",
    "### Menggunakan beberapa model lalu akan di compare \n",
    "\n",
    "#### Deskripsi column pada dataset\n",
    "\n",
    "- CRIM per capita crime rate by town\n",
    "- ZN proportion of residential land zoned for lots over 25,000 sq.ft.\n",
    "- INDUS proportion of non-retail business acres per town\n",
    "- CHAS Charles River dummy variable (= 1 if tract bounds river; 0 otherwise)\n",
    "- NOX nitric oxides concentration (parts per 10 million)\n",
    "- RM average number of rooms per dwelling\n",
    "- AGE proportion of owner-occupied units built prior to 1940\n",
    "- DIS weighted distances to five Boston employment centres\n",
    "- RAD index of accessibility to radial highways\n",
    "- TAX full-value property-tax rate per 10,000\n",
    "- PTRATIO pupil-teacher ratio by town\n",
    "- B 1000(Bk - 0.63)^2 where Bk is the proportion of black people by town\n",
    "- LSTAT % lower status of the population\n",
    "- MEDV Median value of owner-occupied homes in 1000"
   ]
  },
  {
   "cell_type": "markdown",
   "id": "c720138d",
   "metadata": {},
   "source": [
    "### Import library"
   ]
  },
  {
   "cell_type": "code",
   "execution_count": 1,
   "id": "f07f55f5",
   "metadata": {},
   "outputs": [],
   "source": [
    "import pandas as pd\n",
    "import matplotlib.pyplot as plt\n",
    "from sklearn.datasets import load_boston\n",
    "from sklearn.ensemble import RandomForestRegressor\n",
    "from sklearn.linear_model import LinearRegression, BayesianRidge, LogisticRegression, SGDRegressor\n",
    "from sklearn.metrics import mean_absolute_error, mean_squared_error, r2_score\n",
    "import seaborn as sns"
   ]
  },
  {
   "cell_type": "markdown",
   "id": "19c8cf98",
   "metadata": {},
   "source": [
    "### Tampilkan dataset"
   ]
  },
  {
   "cell_type": "code",
   "execution_count": 3,
   "id": "2129d81a",
   "metadata": {},
   "outputs": [
    {
     "data": {
      "text/plain": [
       "{'data': array([[6.3200e-03, 1.8000e+01, 2.3100e+00, ..., 1.5300e+01, 3.9690e+02,\n",
       "         4.9800e+00],\n",
       "        [2.7310e-02, 0.0000e+00, 7.0700e+00, ..., 1.7800e+01, 3.9690e+02,\n",
       "         9.1400e+00],\n",
       "        [2.7290e-02, 0.0000e+00, 7.0700e+00, ..., 1.7800e+01, 3.9283e+02,\n",
       "         4.0300e+00],\n",
       "        ...,\n",
       "        [6.0760e-02, 0.0000e+00, 1.1930e+01, ..., 2.1000e+01, 3.9690e+02,\n",
       "         5.6400e+00],\n",
       "        [1.0959e-01, 0.0000e+00, 1.1930e+01, ..., 2.1000e+01, 3.9345e+02,\n",
       "         6.4800e+00],\n",
       "        [4.7410e-02, 0.0000e+00, 1.1930e+01, ..., 2.1000e+01, 3.9690e+02,\n",
       "         7.8800e+00]]),\n",
       " 'target': array([24. , 21.6, 34.7, 33.4, 36.2, 28.7, 22.9, 27.1, 16.5, 18.9, 15. ,\n",
       "        18.9, 21.7, 20.4, 18.2, 19.9, 23.1, 17.5, 20.2, 18.2, 13.6, 19.6,\n",
       "        15.2, 14.5, 15.6, 13.9, 16.6, 14.8, 18.4, 21. , 12.7, 14.5, 13.2,\n",
       "        13.1, 13.5, 18.9, 20. , 21. , 24.7, 30.8, 34.9, 26.6, 25.3, 24.7,\n",
       "        21.2, 19.3, 20. , 16.6, 14.4, 19.4, 19.7, 20.5, 25. , 23.4, 18.9,\n",
       "        35.4, 24.7, 31.6, 23.3, 19.6, 18.7, 16. , 22.2, 25. , 33. , 23.5,\n",
       "        19.4, 22. , 17.4, 20.9, 24.2, 21.7, 22.8, 23.4, 24.1, 21.4, 20. ,\n",
       "        20.8, 21.2, 20.3, 28. , 23.9, 24.8, 22.9, 23.9, 26.6, 22.5, 22.2,\n",
       "        23.6, 28.7, 22.6, 22. , 22.9, 25. , 20.6, 28.4, 21.4, 38.7, 43.8,\n",
       "        33.2, 27.5, 26.5, 18.6, 19.3, 20.1, 19.5, 19.5, 20.4, 19.8, 19.4,\n",
       "        21.7, 22.8, 18.8, 18.7, 18.5, 18.3, 21.2, 19.2, 20.4, 19.3, 22. ,\n",
       "        20.3, 20.5, 17.3, 18.8, 21.4, 15.7, 16.2, 18. , 14.3, 19.2, 19.6,\n",
       "        23. , 18.4, 15.6, 18.1, 17.4, 17.1, 13.3, 17.8, 14. , 14.4, 13.4,\n",
       "        15.6, 11.8, 13.8, 15.6, 14.6, 17.8, 15.4, 21.5, 19.6, 15.3, 19.4,\n",
       "        17. , 15.6, 13.1, 41.3, 24.3, 23.3, 27. , 50. , 50. , 50. , 22.7,\n",
       "        25. , 50. , 23.8, 23.8, 22.3, 17.4, 19.1, 23.1, 23.6, 22.6, 29.4,\n",
       "        23.2, 24.6, 29.9, 37.2, 39.8, 36.2, 37.9, 32.5, 26.4, 29.6, 50. ,\n",
       "        32. , 29.8, 34.9, 37. , 30.5, 36.4, 31.1, 29.1, 50. , 33.3, 30.3,\n",
       "        34.6, 34.9, 32.9, 24.1, 42.3, 48.5, 50. , 22.6, 24.4, 22.5, 24.4,\n",
       "        20. , 21.7, 19.3, 22.4, 28.1, 23.7, 25. , 23.3, 28.7, 21.5, 23. ,\n",
       "        26.7, 21.7, 27.5, 30.1, 44.8, 50. , 37.6, 31.6, 46.7, 31.5, 24.3,\n",
       "        31.7, 41.7, 48.3, 29. , 24. , 25.1, 31.5, 23.7, 23.3, 22. , 20.1,\n",
       "        22.2, 23.7, 17.6, 18.5, 24.3, 20.5, 24.5, 26.2, 24.4, 24.8, 29.6,\n",
       "        42.8, 21.9, 20.9, 44. , 50. , 36. , 30.1, 33.8, 43.1, 48.8, 31. ,\n",
       "        36.5, 22.8, 30.7, 50. , 43.5, 20.7, 21.1, 25.2, 24.4, 35.2, 32.4,\n",
       "        32. , 33.2, 33.1, 29.1, 35.1, 45.4, 35.4, 46. , 50. , 32.2, 22. ,\n",
       "        20.1, 23.2, 22.3, 24.8, 28.5, 37.3, 27.9, 23.9, 21.7, 28.6, 27.1,\n",
       "        20.3, 22.5, 29. , 24.8, 22. , 26.4, 33.1, 36.1, 28.4, 33.4, 28.2,\n",
       "        22.8, 20.3, 16.1, 22.1, 19.4, 21.6, 23.8, 16.2, 17.8, 19.8, 23.1,\n",
       "        21. , 23.8, 23.1, 20.4, 18.5, 25. , 24.6, 23. , 22.2, 19.3, 22.6,\n",
       "        19.8, 17.1, 19.4, 22.2, 20.7, 21.1, 19.5, 18.5, 20.6, 19. , 18.7,\n",
       "        32.7, 16.5, 23.9, 31.2, 17.5, 17.2, 23.1, 24.5, 26.6, 22.9, 24.1,\n",
       "        18.6, 30.1, 18.2, 20.6, 17.8, 21.7, 22.7, 22.6, 25. , 19.9, 20.8,\n",
       "        16.8, 21.9, 27.5, 21.9, 23.1, 50. , 50. , 50. , 50. , 50. , 13.8,\n",
       "        13.8, 15. , 13.9, 13.3, 13.1, 10.2, 10.4, 10.9, 11.3, 12.3,  8.8,\n",
       "         7.2, 10.5,  7.4, 10.2, 11.5, 15.1, 23.2,  9.7, 13.8, 12.7, 13.1,\n",
       "        12.5,  8.5,  5. ,  6.3,  5.6,  7.2, 12.1,  8.3,  8.5,  5. , 11.9,\n",
       "        27.9, 17.2, 27.5, 15. , 17.2, 17.9, 16.3,  7. ,  7.2,  7.5, 10.4,\n",
       "         8.8,  8.4, 16.7, 14.2, 20.8, 13.4, 11.7,  8.3, 10.2, 10.9, 11. ,\n",
       "         9.5, 14.5, 14.1, 16.1, 14.3, 11.7, 13.4,  9.6,  8.7,  8.4, 12.8,\n",
       "        10.5, 17.1, 18.4, 15.4, 10.8, 11.8, 14.9, 12.6, 14.1, 13. , 13.4,\n",
       "        15.2, 16.1, 17.8, 14.9, 14.1, 12.7, 13.5, 14.9, 20. , 16.4, 17.7,\n",
       "        19.5, 20.2, 21.4, 19.9, 19. , 19.1, 19.1, 20.1, 19.9, 19.6, 23.2,\n",
       "        29.8, 13.8, 13.3, 16.7, 12. , 14.6, 21.4, 23. , 23.7, 25. , 21.8,\n",
       "        20.6, 21.2, 19.1, 20.6, 15.2,  7. ,  8.1, 13.6, 20.1, 21.8, 24.5,\n",
       "        23.1, 19.7, 18.3, 21.2, 17.5, 16.8, 22.4, 20.6, 23.9, 22. , 11.9]),\n",
       " 'feature_names': array(['CRIM', 'ZN', 'INDUS', 'CHAS', 'NOX', 'RM', 'AGE', 'DIS', 'RAD',\n",
       "        'TAX', 'PTRATIO', 'B', 'LSTAT'], dtype='<U7'),\n",
       " 'DESCR': \".. _boston_dataset:\\n\\nBoston house prices dataset\\n---------------------------\\n\\n**Data Set Characteristics:**  \\n\\n    :Number of Instances: 506 \\n\\n    :Number of Attributes: 13 numeric/categorical predictive. Median Value (attribute 14) is usually the target.\\n\\n    :Attribute Information (in order):\\n        - CRIM     per capita crime rate by town\\n        - ZN       proportion of residential land zoned for lots over 25,000 sq.ft.\\n        - INDUS    proportion of non-retail business acres per town\\n        - CHAS     Charles River dummy variable (= 1 if tract bounds river; 0 otherwise)\\n        - NOX      nitric oxides concentration (parts per 10 million)\\n        - RM       average number of rooms per dwelling\\n        - AGE      proportion of owner-occupied units built prior to 1940\\n        - DIS      weighted distances to five Boston employment centres\\n        - RAD      index of accessibility to radial highways\\n        - TAX      full-value property-tax rate per $10,000\\n        - PTRATIO  pupil-teacher ratio by town\\n        - B        1000(Bk - 0.63)^2 where Bk is the proportion of blacks by town\\n        - LSTAT    % lower status of the population\\n        - MEDV     Median value of owner-occupied homes in $1000's\\n\\n    :Missing Attribute Values: None\\n\\n    :Creator: Harrison, D. and Rubinfeld, D.L.\\n\\nThis is a copy of UCI ML housing dataset.\\nhttps://archive.ics.uci.edu/ml/machine-learning-databases/housing/\\n\\n\\nThis dataset was taken from the StatLib library which is maintained at Carnegie Mellon University.\\n\\nThe Boston house-price data of Harrison, D. and Rubinfeld, D.L. 'Hedonic\\nprices and the demand for clean air', J. Environ. Economics & Management,\\nvol.5, 81-102, 1978.   Used in Belsley, Kuh & Welsch, 'Regression diagnostics\\n...', Wiley, 1980.   N.B. Various transformations are used in the table on\\npages 244-261 of the latter.\\n\\nThe Boston house-price data has been used in many machine learning papers that address regression\\nproblems.   \\n     \\n.. topic:: References\\n\\n   - Belsley, Kuh & Welsch, 'Regression diagnostics: Identifying Influential Data and Sources of Collinearity', Wiley, 1980. 244-261.\\n   - Quinlan,R. (1993). Combining Instance-Based and Model-Based Learning. In Proceedings on the Tenth International Conference of Machine Learning, 236-243, University of Massachusetts, Amherst. Morgan Kaufmann.\\n\",\n",
       " 'filename': 'C:\\\\Users\\\\ACER\\\\anaconda3\\\\lib\\\\site-packages\\\\sklearn\\\\datasets\\\\data\\\\boston_house_prices.csv'}"
      ]
     },
     "execution_count": 3,
     "metadata": {},
     "output_type": "execute_result"
    }
   ],
   "source": [
    "df = load_boston()\n",
    "df"
   ]
  },
  {
   "cell_type": "code",
   "execution_count": 4,
   "id": "0e0ff24b",
   "metadata": {},
   "outputs": [
    {
     "data": {
      "text/plain": [
       "dict_keys(['data', 'target', 'feature_names', 'DESCR', 'filename'])"
      ]
     },
     "execution_count": 4,
     "metadata": {},
     "output_type": "execute_result"
    }
   ],
   "source": [
    "df.keys()"
   ]
  },
  {
   "cell_type": "markdown",
   "id": "d8294f95",
   "metadata": {},
   "source": [
    "### feature_names"
   ]
  },
  {
   "cell_type": "code",
   "execution_count": 6,
   "id": "8867e650",
   "metadata": {},
   "outputs": [
    {
     "data": {
      "text/plain": [
       "array(['CRIM', 'ZN', 'INDUS', 'CHAS', 'NOX', 'RM', 'AGE', 'DIS', 'RAD',\n",
       "       'TAX', 'PTRATIO', 'B', 'LSTAT'], dtype='<U7')"
      ]
     },
     "execution_count": 6,
     "metadata": {},
     "output_type": "execute_result"
    }
   ],
   "source": [
    "df.feature_names"
   ]
  },
  {
   "cell_type": "markdown",
   "id": "9fc3b7e5",
   "metadata": {},
   "source": [
    "### data dan target/label"
   ]
  },
  {
   "cell_type": "code",
   "execution_count": 7,
   "id": "bf2277ca",
   "metadata": {},
   "outputs": [
    {
     "data": {
      "text/plain": [
       "array([[6.3200e-03, 1.8000e+01, 2.3100e+00, ..., 1.5300e+01, 3.9690e+02,\n",
       "        4.9800e+00],\n",
       "       [2.7310e-02, 0.0000e+00, 7.0700e+00, ..., 1.7800e+01, 3.9690e+02,\n",
       "        9.1400e+00],\n",
       "       [2.7290e-02, 0.0000e+00, 7.0700e+00, ..., 1.7800e+01, 3.9283e+02,\n",
       "        4.0300e+00],\n",
       "       ...,\n",
       "       [6.0760e-02, 0.0000e+00, 1.1930e+01, ..., 2.1000e+01, 3.9690e+02,\n",
       "        5.6400e+00],\n",
       "       [1.0959e-01, 0.0000e+00, 1.1930e+01, ..., 2.1000e+01, 3.9345e+02,\n",
       "        6.4800e+00],\n",
       "       [4.7410e-02, 0.0000e+00, 1.1930e+01, ..., 2.1000e+01, 3.9690e+02,\n",
       "        7.8800e+00]])"
      ]
     },
     "execution_count": 7,
     "metadata": {},
     "output_type": "execute_result"
    }
   ],
   "source": [
    "df.data"
   ]
  },
  {
   "cell_type": "code",
   "execution_count": 8,
   "id": "54ebe4eb",
   "metadata": {},
   "outputs": [
    {
     "data": {
      "text/plain": [
       "array([24. , 21.6, 34.7, 33.4, 36.2, 28.7, 22.9, 27.1, 16.5, 18.9, 15. ,\n",
       "       18.9, 21.7, 20.4, 18.2, 19.9, 23.1, 17.5, 20.2, 18.2, 13.6, 19.6,\n",
       "       15.2, 14.5, 15.6, 13.9, 16.6, 14.8, 18.4, 21. , 12.7, 14.5, 13.2,\n",
       "       13.1, 13.5, 18.9, 20. , 21. , 24.7, 30.8, 34.9, 26.6, 25.3, 24.7,\n",
       "       21.2, 19.3, 20. , 16.6, 14.4, 19.4, 19.7, 20.5, 25. , 23.4, 18.9,\n",
       "       35.4, 24.7, 31.6, 23.3, 19.6, 18.7, 16. , 22.2, 25. , 33. , 23.5,\n",
       "       19.4, 22. , 17.4, 20.9, 24.2, 21.7, 22.8, 23.4, 24.1, 21.4, 20. ,\n",
       "       20.8, 21.2, 20.3, 28. , 23.9, 24.8, 22.9, 23.9, 26.6, 22.5, 22.2,\n",
       "       23.6, 28.7, 22.6, 22. , 22.9, 25. , 20.6, 28.4, 21.4, 38.7, 43.8,\n",
       "       33.2, 27.5, 26.5, 18.6, 19.3, 20.1, 19.5, 19.5, 20.4, 19.8, 19.4,\n",
       "       21.7, 22.8, 18.8, 18.7, 18.5, 18.3, 21.2, 19.2, 20.4, 19.3, 22. ,\n",
       "       20.3, 20.5, 17.3, 18.8, 21.4, 15.7, 16.2, 18. , 14.3, 19.2, 19.6,\n",
       "       23. , 18.4, 15.6, 18.1, 17.4, 17.1, 13.3, 17.8, 14. , 14.4, 13.4,\n",
       "       15.6, 11.8, 13.8, 15.6, 14.6, 17.8, 15.4, 21.5, 19.6, 15.3, 19.4,\n",
       "       17. , 15.6, 13.1, 41.3, 24.3, 23.3, 27. , 50. , 50. , 50. , 22.7,\n",
       "       25. , 50. , 23.8, 23.8, 22.3, 17.4, 19.1, 23.1, 23.6, 22.6, 29.4,\n",
       "       23.2, 24.6, 29.9, 37.2, 39.8, 36.2, 37.9, 32.5, 26.4, 29.6, 50. ,\n",
       "       32. , 29.8, 34.9, 37. , 30.5, 36.4, 31.1, 29.1, 50. , 33.3, 30.3,\n",
       "       34.6, 34.9, 32.9, 24.1, 42.3, 48.5, 50. , 22.6, 24.4, 22.5, 24.4,\n",
       "       20. , 21.7, 19.3, 22.4, 28.1, 23.7, 25. , 23.3, 28.7, 21.5, 23. ,\n",
       "       26.7, 21.7, 27.5, 30.1, 44.8, 50. , 37.6, 31.6, 46.7, 31.5, 24.3,\n",
       "       31.7, 41.7, 48.3, 29. , 24. , 25.1, 31.5, 23.7, 23.3, 22. , 20.1,\n",
       "       22.2, 23.7, 17.6, 18.5, 24.3, 20.5, 24.5, 26.2, 24.4, 24.8, 29.6,\n",
       "       42.8, 21.9, 20.9, 44. , 50. , 36. , 30.1, 33.8, 43.1, 48.8, 31. ,\n",
       "       36.5, 22.8, 30.7, 50. , 43.5, 20.7, 21.1, 25.2, 24.4, 35.2, 32.4,\n",
       "       32. , 33.2, 33.1, 29.1, 35.1, 45.4, 35.4, 46. , 50. , 32.2, 22. ,\n",
       "       20.1, 23.2, 22.3, 24.8, 28.5, 37.3, 27.9, 23.9, 21.7, 28.6, 27.1,\n",
       "       20.3, 22.5, 29. , 24.8, 22. , 26.4, 33.1, 36.1, 28.4, 33.4, 28.2,\n",
       "       22.8, 20.3, 16.1, 22.1, 19.4, 21.6, 23.8, 16.2, 17.8, 19.8, 23.1,\n",
       "       21. , 23.8, 23.1, 20.4, 18.5, 25. , 24.6, 23. , 22.2, 19.3, 22.6,\n",
       "       19.8, 17.1, 19.4, 22.2, 20.7, 21.1, 19.5, 18.5, 20.6, 19. , 18.7,\n",
       "       32.7, 16.5, 23.9, 31.2, 17.5, 17.2, 23.1, 24.5, 26.6, 22.9, 24.1,\n",
       "       18.6, 30.1, 18.2, 20.6, 17.8, 21.7, 22.7, 22.6, 25. , 19.9, 20.8,\n",
       "       16.8, 21.9, 27.5, 21.9, 23.1, 50. , 50. , 50. , 50. , 50. , 13.8,\n",
       "       13.8, 15. , 13.9, 13.3, 13.1, 10.2, 10.4, 10.9, 11.3, 12.3,  8.8,\n",
       "        7.2, 10.5,  7.4, 10.2, 11.5, 15.1, 23.2,  9.7, 13.8, 12.7, 13.1,\n",
       "       12.5,  8.5,  5. ,  6.3,  5.6,  7.2, 12.1,  8.3,  8.5,  5. , 11.9,\n",
       "       27.9, 17.2, 27.5, 15. , 17.2, 17.9, 16.3,  7. ,  7.2,  7.5, 10.4,\n",
       "        8.8,  8.4, 16.7, 14.2, 20.8, 13.4, 11.7,  8.3, 10.2, 10.9, 11. ,\n",
       "        9.5, 14.5, 14.1, 16.1, 14.3, 11.7, 13.4,  9.6,  8.7,  8.4, 12.8,\n",
       "       10.5, 17.1, 18.4, 15.4, 10.8, 11.8, 14.9, 12.6, 14.1, 13. , 13.4,\n",
       "       15.2, 16.1, 17.8, 14.9, 14.1, 12.7, 13.5, 14.9, 20. , 16.4, 17.7,\n",
       "       19.5, 20.2, 21.4, 19.9, 19. , 19.1, 19.1, 20.1, 19.9, 19.6, 23.2,\n",
       "       29.8, 13.8, 13.3, 16.7, 12. , 14.6, 21.4, 23. , 23.7, 25. , 21.8,\n",
       "       20.6, 21.2, 19.1, 20.6, 15.2,  7. ,  8.1, 13.6, 20.1, 21.8, 24.5,\n",
       "       23.1, 19.7, 18.3, 21.2, 17.5, 16.8, 22.4, 20.6, 23.9, 22. , 11.9])"
      ]
     },
     "execution_count": 8,
     "metadata": {},
     "output_type": "execute_result"
    }
   ],
   "source": [
    "df.target"
   ]
  },
  {
   "cell_type": "code",
   "execution_count": 9,
   "id": "4371712f",
   "metadata": {},
   "outputs": [
    {
     "name": "stdout",
     "output_type": "stream",
     "text": [
      "(506, 13) (506,)\n"
     ]
    }
   ],
   "source": [
    "print(df.data.shape, df.target.shape)"
   ]
  },
  {
   "cell_type": "markdown",
   "id": "1c6f2c6b",
   "metadata": {},
   "source": [
    "### Model building\n",
    "\n",
    "1. RandomForestRegressor\n",
    "2. LinearRegression\n",
    "3. BayesianRidge\n",
    "4. SGDRegressor"
   ]
  },
  {
   "cell_type": "markdown",
   "id": "ecc09825",
   "metadata": {},
   "source": [
    "### Split data"
   ]
  },
  {
   "cell_type": "code",
   "execution_count": 11,
   "id": "6b069cec",
   "metadata": {},
   "outputs": [],
   "source": [
    "from sklearn.model_selection import train_test_split\n",
    "X, y = df.data, df.target\n",
    "X_train, X_test, y_train, y_test = train_test_split(X, y, test_size=0.3, shuffle=True)"
   ]
  },
  {
   "cell_type": "markdown",
   "id": "2efb72fb",
   "metadata": {},
   "source": [
    "### 1. RandomForestRegressor"
   ]
  },
  {
   "cell_type": "code",
   "execution_count": 65,
   "id": "03ff2ba5",
   "metadata": {},
   "outputs": [
    {
     "name": "stdout",
     "output_type": "stream",
     "text": [
      "prediksi X_test : [13.585 15.646 14.511 17.774 28.17  32.819 23.938 20.788 30.978 19.98\n",
      "  7.631 26.56  13.534 27.745 19.937 21.634 11.122 33.933 21.428 14.484\n",
      " 47.29  10.415 40.13  21.603 20.291 20.608 14.708 21.05  19.438 47.127\n",
      " 21.548 45.943 22.575 18.3   14.058 16.277 21.447 11.069 19.218 27.646\n",
      " 17.449 23.857 20.596 19.334 14.292 22.804 11.301 17.335 11.068 26.635\n",
      " 13.161 20.803 11.87  13.065 23.484 30.404 14.667 20.934 23.2   23.883\n",
      " 23.829 21.604 15.902 20.518 43.506 26.372 34.283 19.456 17.408 26.728\n",
      " 24.233 21.53  24.999 16.939 15.421 33.059 15.381 18.008 22.403 19.516\n",
      " 28.494 21.505  7.711 15.231 20.18  14.533 14.592  9.515 23.582 14.699\n",
      " 34.549 15.527 21.197 29.446 23.68  11.275 34.054 22.116 45.692 17.601\n",
      " 45.182 11.175 24.666 18.624 21.962 16.957 29.458 19.414 16.243 35.236\n",
      " 22.632 33.506 17.071 12.66  18.545  8.995 21.325 34.158 35.144 15.358\n",
      " 12.735 34.385  8.805  9.12  25.246 20.121 20.096 24.039 28.987 18.385\n",
      " 18.243 31.147 22.368 21.373 19.864 20.906 14.626  9.743 19.982 43.843\n",
      " 19.717 19.996 27.84  16.922 24.523  9.909 13.12  12.041 14.61  23.26\n",
      " 12.48  23.217]\n",
      "Score rfr : 0.7673735465421684\n",
      "R2_score rfr : 0.7673735465421684\n",
      "MAE rfr : 2.3682236842105264\n",
      "MSE rfr : 15.951203565789486\n"
     ]
    }
   ],
   "source": [
    "rfr = RandomForestRegressor(n_estimators=100, random_state=42)\n",
    "rfr.fit(X_train, y_train)\n",
    "y_pred_rfr = rfr.predict(X_test)\n",
    "print('prediksi X_test :', rfr.predict(X_test))\n",
    "print('Score rfr :', rfr.score(X_test, y_test))\n",
    "r2_score_rfr = r2_score(y_test, y_pred_rfr)\n",
    "print('R2_score rfr :', r2_score_rfr)\n",
    "mae_rfr = mean_absolute_error(y_test, y_pred_rfr)\n",
    "print('MAE rfr :', mae_rfr)\n",
    "mse_rfr = mean_squared_error(y_test, y_pred_rfr)\n",
    "print('MSE rfr :', mse_rfr)"
   ]
  },
  {
   "cell_type": "code",
   "execution_count": 66,
   "id": "18987f46",
   "metadata": {},
   "outputs": [
    {
     "data": {
      "text/plain": [
       "array([40.22])"
      ]
     },
     "execution_count": 66,
     "metadata": {},
     "output_type": "execute_result"
    }
   ],
   "source": [
    "import numpy as np\n",
    "\n",
    "data = np.linspace(1,10,10000)\n",
    "data_pred = [data[2], data[7], data[10], data[5], data[13],\n",
    "            data[22], data[15], data[32], data[19], data[21],\n",
    "            data[27], data[8], data[25]]\n",
    "rfr.predict([data_pred])"
   ]
  },
  {
   "cell_type": "markdown",
   "id": "cc3b0a4f",
   "metadata": {},
   "source": [
    "### 2. LinearRegression"
   ]
  },
  {
   "cell_type": "code",
   "execution_count": 69,
   "id": "5292a913",
   "metadata": {},
   "outputs": [
    {
     "name": "stdout",
     "output_type": "stream",
     "text": [
      "Prediki lr : [ 9.07498942 14.64421539 13.24730352 17.71360951 27.62155214 32.5781355\n",
      " 25.09957641 19.54392607 37.18353573 20.01953219  5.42055429 27.386764\n",
      " 19.51713749 27.88073716 21.41347757 21.64699443 12.91809016 35.33695813\n",
      " 20.15263635 13.52173633 39.44040005 12.56020944 24.54229268 23.51185152\n",
      " 20.07177301 18.99412876 17.14711434 23.76229307 19.83979851 41.9574989\n",
      " 24.0679471  36.52903733 25.14642455 17.14358683 14.37880663 16.48867013\n",
      " 19.73549649 10.4686681  17.28294874 32.40666654 20.03600512 24.17824996\n",
      " 24.03487295 17.33815827 14.01345351 24.06809522 13.56545444 22.99964493\n",
      " 17.64900311 28.59846479 13.98397075 15.38696151  5.12289774 18.4186587\n",
      " 24.66320427 26.26237982 14.32680624 22.48294672 23.10968109 22.27753347\n",
      " 25.81775099 24.54285424 20.67255938 22.04454272 36.94895336 28.89224265\n",
      " 32.63870163 19.34110487 16.45737537 25.64663658 27.93736645 22.11025462\n",
      " 29.25307626 23.89417844 19.9072415  33.23608322 20.23146332 20.19486863\n",
      " 22.83201331 15.20447953 32.82619177 21.38517167  6.20132281 18.87327982\n",
      " 20.92544937 16.37505536 10.9452216   5.12340732 20.81236879 16.28343241\n",
      " 34.68447854 15.63347152 22.88524295 31.7695205  25.4829807  16.71047466\n",
      " 25.97759515 21.39070644 38.36384803 16.74524209 35.32595999 12.55895661\n",
      " 24.97946068 17.58490252 17.69708023 18.92299424 30.87200141 16.01772416\n",
      " 15.59738658 22.29305796 21.62105139 34.94775282 18.96160806 14.53981326\n",
      " 13.31103246  4.83039729 22.46393049 29.23224642 31.51491924 19.69430319\n",
      "  7.64068202 36.11525982 12.17947842  5.46440709 29.12079992 20.27552134\n",
      " 21.09324037 24.3294277  31.2895799  15.64009446 20.09414039 29.07694834\n",
      " 27.29890191 22.12595242 19.85103739 20.26634254 12.7852536   7.40501539\n",
      " 22.51235126 40.47923946 19.55722385 20.07738858 14.048237   18.85799135\n",
      " 27.40438788  9.03220111 17.00739066 -0.87953272 15.50215742 27.15561028\n",
      " 10.79197097 22.33168578]\n",
      "Score lr  0.6076860676468354\n",
      "R2_score  0.6076860676468354\n",
      "MAE lr  3.453262229306794\n",
      "MSE lr  26.90097924652006\n"
     ]
    }
   ],
   "source": [
    "lr = LinearRegression()\n",
    "lr.fit(X_train, y_train)\n",
    "y_pred_lr = lr.predict(X_test)\n",
    "print('Prediki lr :', lr.predict(X_test))\n",
    "print('Score lr ', lr.score(X_test, y_test))\n",
    "r2_score_lr = r2_score(y_test, y_pred_lr)\n",
    "print('R2_score ', r2_score_lr)\n",
    "mae_lr = mean_absolute_error(y_test, y_pred_lr)\n",
    "print('MAE lr ', mae_lr)\n",
    "mse_lr = mean_squared_error(y_test, y_pred_lr)\n",
    "print('MSE lr ', mse_lr)"
   ]
  },
  {
   "cell_type": "code",
   "execution_count": 68,
   "id": "f38c8f0b",
   "metadata": {},
   "outputs": [
    {
     "data": {
      "text/plain": [
       "array([19.0692335])"
      ]
     },
     "execution_count": 68,
     "metadata": {},
     "output_type": "execute_result"
    }
   ],
   "source": [
    "data = np.linspace(1,10,10000)\n",
    "data_pred_2 = [data[2], data[81], data[12], data[5], data[13],\n",
    "            data[87], data[15], data[32], data[19], data[21],\n",
    "            data[76], data[88], data[200]]\n",
    "lr.predict([data_pred_2])"
   ]
  },
  {
   "cell_type": "markdown",
   "id": "d15071fd",
   "metadata": {},
   "source": [
    "### 3. BayesianRidge"
   ]
  },
  {
   "cell_type": "code",
   "execution_count": 71,
   "id": "566d55e5",
   "metadata": {},
   "outputs": [
    {
     "name": "stdout",
     "output_type": "stream",
     "text": [
      "Prediki br : [11.51058777 14.76219594 13.33376553 17.18299995 26.95714004 32.11712349\n",
      " 25.37295724 19.9159962  36.08987973 20.30510125  5.21108953 26.46776722\n",
      " 19.73536061 28.1550925  22.34981655 20.70728945 13.17923418 35.29825409\n",
      " 21.14916837 13.66037436 38.70011601 13.48468658 24.1761059  22.55868016\n",
      " 19.92732477 17.90949877 17.41213158 23.39600452 19.23995148 42.71611716\n",
      " 23.62194077 35.67845457 25.30862962 17.12249825 16.96989616 14.5676264\n",
      " 19.66409165  9.42488388 17.64254587 32.45855896 18.63711125 24.42777193\n",
      " 22.7248593  16.82526321 14.14237874 23.35308775 13.98395735 24.75020415\n",
      " 18.10495283 28.20841801 14.47268542 14.71766853  4.61127596 19.26847858\n",
      " 24.50805999 26.94296394 14.16825748 23.52622428 24.94818118 23.04217516\n",
      " 25.81136984 24.14693422 19.9976634  22.80070901 36.55795803 28.79333999\n",
      " 32.46206449 19.59769466 15.9177821  28.57861045 27.4829443  21.2802595\n",
      " 28.91250407 22.02733015 20.4610257  33.09830578 20.6909629  19.77367522\n",
      " 23.86706417 15.04513173 32.63297718 21.18593761  6.00701544 19.85600222\n",
      " 20.60386792 16.77711156 11.0016384   5.32898624 21.50958096 16.24286396\n",
      " 34.42432642 15.76450437 22.82071385 31.56614386 25.944634   16.51141028\n",
      " 25.89652136 21.28404906 37.81594122 14.85235672 34.89408386 12.7790334\n",
      " 25.34257355 17.7457426  19.48422391 18.55358226 30.33976072 16.90713363\n",
      " 15.72477593 22.39570489 21.57760815 35.85089928 18.99715174 14.47278573\n",
      " 13.63446275  4.99647864 21.00116403 29.70732619 31.63000985 20.31256406\n",
      " 10.08106599 35.83041355 12.59776856  5.57819226 28.95751938 19.88724693\n",
      " 20.91463992 24.28469368 31.02999577 15.39696539 19.33259484 27.99196474\n",
      " 26.83548996 22.09686058 20.15524724 20.96309063 13.22576517  7.45840695\n",
      " 22.61863295 40.26169726 19.88516791 20.41260332 13.05668877 19.58077556\n",
      " 27.08501416  9.37208073 15.46688304 -1.36697951 14.60496835 26.75431719\n",
      "  9.90822314 22.14898211]\n",
      "Score br  0.5979345550482662\n",
      "R2_score  0.5979345550482662\n",
      "MAE br  3.5008861091697083\n",
      "MSE br  27.569640786177388\n"
     ]
    }
   ],
   "source": [
    "br = BayesianRidge()\n",
    "br.fit(X_train, y_train)\n",
    "y_pred_br = br.predict(X_test)\n",
    "print('Prediki br :', br.predict(X_test))\n",
    "print('Score br ', br.score(X_test, y_test))\n",
    "r2_score_br = r2_score(y_test, y_pred_br)\n",
    "print('R2_score ', r2_score_br)\n",
    "mae_br = mean_absolute_error(y_test, y_pred_br)\n",
    "print('MAE br ', mae_br)\n",
    "mse_br = mean_squared_error(y_test, y_pred_br)\n",
    "print('MSE br ', mse_br)"
   ]
  },
  {
   "cell_type": "markdown",
   "id": "5e47a574",
   "metadata": {},
   "source": [
    "### 4. SGDRegressor"
   ]
  },
  {
   "cell_type": "code",
   "execution_count": 74,
   "id": "ed1b73fb",
   "metadata": {},
   "outputs": [
    {
     "name": "stdout",
     "output_type": "stream",
     "text": [
      "Prediki sgd : [2.28041047e+14 2.47874314e+14 2.41574404e+14 2.45271392e+14\n",
      " 2.53026553e+14 2.26855934e+14 2.41552948e+14 2.43314684e+14\n",
      " 2.57429195e+14 2.42897655e+14 4.65014042e+13 2.39376801e+14\n",
      " 2.63710605e+14 2.70256461e+14 2.38759175e+14 9.58312344e+13\n",
      " 2.64037912e+14 2.75164648e+14 2.63093760e+14 2.50856121e+14\n",
      " 2.39104542e+14 2.60368142e+14 2.43602481e+14 2.63426106e+14\n",
      " 2.47526372e+14 2.43042498e+14 4.15024794e+13 2.45621851e+14\n",
      " 2.48476734e+14 2.40572639e+14 2.42545592e+14 2.39049093e+14\n",
      " 2.38849594e+14 2.39741744e+14 2.23520209e+14 2.41583751e+14\n",
      " 2.50889334e+14 1.57789855e+14 2.39683477e+14 2.75551461e+14\n",
      " 1.41408709e+14 2.51211362e+14 2.33510468e+14 2.38009497e+14\n",
      " 4.99197440e+13 2.37770245e+14 2.63452287e+14 2.04843084e+14\n",
      " 2.62434569e+14 2.48517596e+14 1.03804183e+14 2.66624641e+14\n",
      " 2.66461279e+14 2.57414864e+14 2.45215430e+14 2.49559301e+14\n",
      " 5.39862849e+13 2.38547651e+14 2.48933797e+14 2.49992888e+14\n",
      " 2.45785311e+14 2.44225271e+14 2.63375872e+14 2.39457920e+14\n",
      " 2.32233299e+14 2.52900612e+14 2.63959540e+14 2.49373174e+14\n",
      " 2.46993925e+14 2.27107092e+14 2.20912912e+14 2.48917453e+14\n",
      " 2.53822355e+14 2.42469409e+14 2.39976311e+14 2.37066824e+14\n",
      " 2.62656342e+14 2.26204379e+14 2.60158879e+14 2.87454391e+14\n",
      " 2.51148743e+14 2.59402451e+14 1.13460010e+14 2.62065577e+14\n",
      " 2.43994800e+14 7.04158689e+13 2.23315327e+14 8.35797695e+13\n",
      " 2.62138942e+14 2.50870566e+14 2.43450665e+14 2.43199823e+14\n",
      " 2.35232555e+14 2.56417632e+14 2.42011163e+14 2.61496430e+14\n",
      " 2.61577043e+14 2.35329628e+14 2.34495759e+14 2.41586715e+14\n",
      " 2.33659700e+14 2.64341791e+14 2.55347778e+14 2.51656139e+14\n",
      " 2.52262039e+14 2.48216123e+14 2.72761723e+14 1.84245673e+14\n",
      " 2.40264002e+14 2.47213709e+14 2.41946340e+14 2.45028178e+14\n",
      " 2.50162132e+14 9.71405022e+13 2.49529677e+14 2.65731316e+14\n",
      " 2.34911468e+14 2.35790987e+14 2.84696261e+14 1.84194019e+14\n",
      " 2.47576761e+14 2.50963099e+14 2.62323621e+14 2.51813062e+14\n",
      " 2.61327193e+14 2.41909347e+14 2.48940283e+14 2.39593824e+14\n",
      " 2.37296099e+14 2.39516941e+14 2.63686258e+14 2.61115032e+14\n",
      " 2.66387899e+14 2.43801338e+14 2.41554424e+14 2.48556919e+14\n",
      " 4.77491315e+13 2.65364627e+14 2.47598816e+14 2.38170353e+14\n",
      " 2.36703353e+14 2.47656657e+14 3.75186360e+13 2.56846976e+14\n",
      " 2.52968771e+14 2.64426849e+14 6.09482277e+13 2.66556767e+14\n",
      " 2.38200449e+14 2.65148894e+14 2.66047823e+14 2.25184258e+14]\n",
      "Score sgd  -8.213634987551554e+26\n",
      "R2_score  -8.213634987551554e+26\n",
      "MAE sgd  231265033329174.7\n",
      "MSE sgd  5.632092212817715e+28\n"
     ]
    }
   ],
   "source": [
    "sgd = SGDRegressor()\n",
    "sgd.fit(X_train, y_train)\n",
    "y_pred_sgd = sgd.predict(X_test)\n",
    "print('Prediki sgd :', sgd.predict(X_test))\n",
    "print('Score sgd ', sgd.score(X_test, y_test))\n",
    "r2_score_sgd = r2_score(y_test, y_pred_sgd)\n",
    "print('R2_score ', r2_score_sgd)\n",
    "mae_sgd = mean_absolute_error(y_test, y_pred_sgd)\n",
    "print('MAE sgd ', mae_sgd)\n",
    "mse_sgd = mean_squared_error(y_test, y_pred_sgd)\n",
    "print('MSE sgd ', mse_sgd)"
   ]
  },
  {
   "cell_type": "code",
   "execution_count": 81,
   "id": "d5952396",
   "metadata": {},
   "outputs": [
    {
     "data": {
      "text/html": [
       "<div>\n",
       "<style scoped>\n",
       "    .dataframe tbody tr th:only-of-type {\n",
       "        vertical-align: middle;\n",
       "    }\n",
       "\n",
       "    .dataframe tbody tr th {\n",
       "        vertical-align: top;\n",
       "    }\n",
       "\n",
       "    .dataframe thead th {\n",
       "        text-align: right;\n",
       "    }\n",
       "</style>\n",
       "<table border=\"1\" class=\"dataframe\">\n",
       "  <thead>\n",
       "    <tr style=\"text-align: right;\">\n",
       "      <th></th>\n",
       "      <th>model</th>\n",
       "      <th>r2</th>\n",
       "      <th>mae</th>\n",
       "      <th>mse</th>\n",
       "    </tr>\n",
       "  </thead>\n",
       "  <tbody>\n",
       "    <tr>\n",
       "      <th>0</th>\n",
       "      <td>RandomForestRegressor</td>\n",
       "      <td>7.673735e-01</td>\n",
       "      <td>2.368224e+00</td>\n",
       "      <td>1.595120e+01</td>\n",
       "    </tr>\n",
       "    <tr>\n",
       "      <th>1</th>\n",
       "      <td>LinearRegression</td>\n",
       "      <td>6.076861e-01</td>\n",
       "      <td>3.453262e+00</td>\n",
       "      <td>2.690098e+01</td>\n",
       "    </tr>\n",
       "    <tr>\n",
       "      <th>2</th>\n",
       "      <td>BayesianRidge</td>\n",
       "      <td>5.979346e-01</td>\n",
       "      <td>3.500886e+00</td>\n",
       "      <td>2.756964e+01</td>\n",
       "    </tr>\n",
       "    <tr>\n",
       "      <th>3</th>\n",
       "      <td>SGDRegression</td>\n",
       "      <td>-8.213635e+26</td>\n",
       "      <td>2.312650e+14</td>\n",
       "      <td>5.632092e+28</td>\n",
       "    </tr>\n",
       "  </tbody>\n",
       "</table>\n",
       "</div>"
      ],
      "text/plain": [
       "                   model            r2           mae           mse\n",
       "0  RandomForestRegressor  7.673735e-01  2.368224e+00  1.595120e+01\n",
       "1       LinearRegression  6.076861e-01  3.453262e+00  2.690098e+01\n",
       "2          BayesianRidge  5.979346e-01  3.500886e+00  2.756964e+01\n",
       "3          SGDRegression -8.213635e+26  2.312650e+14  5.632092e+28"
      ]
     },
     "execution_count": 81,
     "metadata": {},
     "output_type": "execute_result"
    }
   ],
   "source": [
    "model = ['RandomForestRegressor','LinearRegression','BayesianRidge','SGDRegression']\n",
    "r2 = [r2_score_rfr, r2_score_lr, r2_score_br, r2_score_sgd]\n",
    "mae_plot = [mae_rfr, mae_lr, mae_br, mae_sgd]\n",
    "mse_plot = [mse_rfr, mse_lr, mse_br, mse_sgd]\n",
    "\n",
    "plot_model = pd.DataFrame({\n",
    "    \"model\":model,\n",
    "    \"r2\":r2,\n",
    "    \"mae\":mae_plot,\n",
    "    \"mse\":mse_plot\n",
    "})\n",
    "plot_model.sort_values(by='r2', ascending=False)"
   ]
  },
  {
   "cell_type": "markdown",
   "id": "3abf9e9a",
   "metadata": {},
   "source": [
    "## Plotting Model"
   ]
  },
  {
   "cell_type": "code",
   "execution_count": 98,
   "id": "5c096773",
   "metadata": {},
   "outputs": [
    {
     "data": {
      "image/png": "[encoded data removed]",
      "text/plain": [
       "<Figure size 792x576 with 1 Axes>"
      ]
     },
     "metadata": {
      "needs_background": "light"
     },
     "output_type": "display_data"
    }
   ],
   "source": [
    "plt.figure(figsize=(11,8))\n",
    "sns.barplot(model,r2)\n",
    "plt.ylabel('R2 Score')\n",
    "plt.xlabel('Model')\n",
    "plt.title('R2_Score')\n",
    "plt.ylim(0,1)\n",
    "plt.show()"
   ]
  },
  {
   "cell_type": "code",
   "execution_count": 104,
   "id": "612c2e2f",
   "metadata": {},
   "outputs": [
    {
     "data": {
      "image/png": "[encoded data removed]",
      "text/plain": [
       "<Figure size 792x576 with 1 Axes>"
      ]
     },
     "metadata": {
      "needs_background": "light"
     },
     "output_type": "display_data"
    }
   ],
   "source": [
    "plt.figure(figsize=(11,8))\n",
    "sns.barplot(model,mae_plot)\n",
    "plt.ylabel('MAE')\n",
    "plt.xlabel('Model')\n",
    "plt.title('Mean Absolute Error')\n",
    "plt.ylim(0,10)\n",
    "plt.show()"
   ]
  },
  {
   "cell_type": "code",
   "execution_count": 106,
   "id": "ce506e7d",
   "metadata": {},
   "outputs": [
    {
     "data": {
      "image/png": "[encoded data removed]",
      "text/plain": [
       "<Figure size 792x576 with 1 Axes>"
      ]
     },
     "metadata": {
      "needs_background": "light"
     },
     "output_type": "display_data"
    }
   ],
   "source": [
    "plt.figure(figsize=(11,8))\n",
    "sns.barplot(model,mse_plot)\n",
    "plt.ylabel('MSE')\n",
    "plt.xlabel('Model')\n",
    "plt.title('Mean Squared Error')\n",
    "plt.ylim(0,50)\n",
    "plt.show()"
   ]
  },
  {
   "cell_type": "code",
   "execution_count": null,
   "id": "65c078ce",
   "metadata": {},
   "outputs": [],
   "source": []
  }
 ],
 "metadata": {
  "kernelspec": {
   "display_name": "Python 3",
   "language": "python",
   "name": "python3"
  },
  "language_info": {
   "codemirror_mode": {
    "name": "ipython",
    "version": 3
   },
   "file_extension": ".py",
   "mimetype": "text/x-python",
   "name": "python",
   "nbconvert_exporter": "python",
   "pygments_lexer": "ipython3",
   "version": "3.8.8"
  }
 },
 "nbformat": 4,
 "nbformat_minor": 5
}
