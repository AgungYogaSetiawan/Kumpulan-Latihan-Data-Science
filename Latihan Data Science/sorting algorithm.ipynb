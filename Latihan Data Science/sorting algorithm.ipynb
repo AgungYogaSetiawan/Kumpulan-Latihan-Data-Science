{
 "cells": [
  {
   "cell_type": "code",
   "execution_count": 22,
   "id": "64c5e4bc",
   "metadata": {},
   "outputs": [
    {
     "name": "stdout",
     "output_type": "stream",
     "text": [
      "[8, 10, 11, 12, 20, 30, 35, 45, 60]\n"
     ]
    }
   ],
   "source": [
    "def bubble_sort(mylist):\n",
    "    n = len(mylist)\n",
    "    \n",
    "    for i in range(n):\n",
    "        for j in range(n-i-1):\n",
    "            if mylist[j] > mylist[j+1]:\n",
    "                mylist[j],mylist[j+1] = mylist[j+1],mylist[j]\n",
    "                \n",
    "    return mylist\n",
    "\n",
    "mylist = [30,35,60,20,45,8,10,12,11]\n",
    "bbs = bubble_sort(mylist)\n",
    "print(bbs)"
   ]
  },
  {
   "cell_type": "code",
   "execution_count": 26,
   "id": "bd35ddfe",
   "metadata": {},
   "outputs": [
    {
     "name": "stdout",
     "output_type": "stream",
     "text": [
      "[3, 4, 7, 10, 12, 34, 56, 80]\n"
     ]
    }
   ],
   "source": [
    "def selection_sort(mylist):\n",
    "    n = len(mylist)\n",
    "    \n",
    "    for i in range(n):\n",
    "        min_idx = i\n",
    "        for j in range(i+1,n):\n",
    "            if mylist[min_idx] > mylist[j]:\n",
    "                min_idx = j\n",
    "        mylist[i],mylist[min_idx] = mylist[min_idx],mylist[i]\n",
    "    return mylist\n",
    "\n",
    "mylist = [56,34,7,80,12,3,4,10]\n",
    "print(selection_sort(mylist))"
   ]
  },
  {
   "cell_type": "code",
   "execution_count": 34,
   "id": "ccf65049",
   "metadata": {},
   "outputs": [
    {
     "name": "stdout",
     "output_type": "stream",
     "text": [
      "[10, 12, 23, 35, 40]\n"
     ]
    }
   ],
   "source": [
    "def insertion_sort(mylist):\n",
    "    for i in range(1,len(mylist)):\n",
    "        key = mylist[i]\n",
    "        j = i - 1\n",
    "        while j >= 0 and mylist[j] > key:\n",
    "            mylist[j+1] = mylist[j]\n",
    "            j -= 1\n",
    "        mylist[j+1] = key\n",
    "    return mylist\n",
    "\n",
    "mylist = [35,10,23,40,12]\n",
    "print(insertion_sort(mylist))"
   ]
  },
  {
   "cell_type": "code",
   "execution_count": null,
   "id": "4e436708",
   "metadata": {},
   "outputs": [],
   "source": []
  }
 ],
 "metadata": {
  "kernelspec": {
   "display_name": "Python 3",
   "language": "python",
   "name": "python3"
  },
  "language_info": {
   "codemirror_mode": {
    "name": "ipython",
    "version": 3
   },
   "file_extension": ".py",
   "mimetype": "text/x-python",
   "name": "python",
   "nbconvert_exporter": "python",
   "pygments_lexer": "ipython3",
   "version": "3.8.8"
  }
 },
 "nbformat": 4,
 "nbformat_minor": 5
}
