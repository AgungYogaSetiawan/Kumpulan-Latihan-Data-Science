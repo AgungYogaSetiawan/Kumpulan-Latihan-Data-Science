{
 "cells": [
  {
   "cell_type": "markdown",
   "id": "ef08e079",
   "metadata": {},
   "source": [
    "## Cara 1: dengan slicing reverse"
   ]
  },
  {
   "cell_type": "code",
   "execution_count": 3,
   "id": "2d967c7d",
   "metadata": {},
   "outputs": [
    {
     "name": "stdout",
     "output_type": "stream",
     "text": [
      "Palindrome\n"
     ]
    }
   ],
   "source": [
    "def isPalindrome(s):\n",
    "    # reverser string\n",
    "    return s == s[::-1]\n",
    "\n",
    "s = \"kodok\"\n",
    "ans = isPalindrome(s)\n",
    "if ans:\n",
    "    print('Palindrome')\n",
    "else:\n",
    "    print('Not Palindrome')"
   ]
  },
  {
   "cell_type": "markdown",
   "id": "fe54991c",
   "metadata": {},
   "source": [
    "## Cara 2: rekursif"
   ]
  },
  {
   "cell_type": "code",
   "execution_count": 9,
   "id": "cee2d8ec",
   "metadata": {},
   "outputs": [
    {
     "name": "stdout",
     "output_type": "stream",
     "text": [
      "Palindrome\n"
     ]
    }
   ],
   "source": [
    "def isPalindrome(s):\n",
    "    \n",
    "    s = s.lower()\n",
    "    l = len(s)\n",
    "    \n",
    "    if len(s) < 2:\n",
    "        return True\n",
    "    elif s[0] == s[l - 1]:\n",
    "        return isPalindrome(s[1:l - 1])\n",
    "    else:\n",
    "        return False\n",
    "    \n",
    "s = 'Kodok'\n",
    "ans = isPalindrome(s)\n",
    "\n",
    "if ans:\n",
    "    print('Palindrome')\n",
    "else:\n",
    "    print('Not Palindrome')"
   ]
  },
  {
   "cell_type": "markdown",
   "id": "a5a0b9d4",
   "metadata": {},
   "source": [
    "## Cara 3: iterative"
   ]
  },
  {
   "cell_type": "code",
   "execution_count": 19,
   "id": "47bac8c4",
   "metadata": {},
   "outputs": [
    {
     "name": "stdout",
     "output_type": "stream",
     "text": [
      "Palindrome\n"
     ]
    }
   ],
   "source": [
    "def isPalindrome(s):\n",
    "    \n",
    "    for i in range(0, int(len(s)/2)):\n",
    "        if s[i] != s[len(s)-i-1]:\n",
    "            return False\n",
    "    return True\n",
    "\n",
    "s = 'kodok'\n",
    "ans = isPalindrome(s)\n",
    "\n",
    "if ans:\n",
    "    print('Palindrome')\n",
    "else:\n",
    "    print('Not Palindrome')"
   ]
  },
  {
   "cell_type": "code",
   "execution_count": 30,
   "id": "66666734",
   "metadata": {},
   "outputs": [
    {
     "name": "stdout",
     "output_type": "stream",
     "text": [
      "Palindrome\n"
     ]
    }
   ],
   "source": [
    "def isPalindrome(s):\n",
    "    \n",
    "    for i in range(0, int(len(s)/2)):\n",
    "        if s[i] != s[len(s)-i-1]:\n",
    "            return False\n",
    "    return True\n",
    "\n",
    "s = 'kodok'\n",
    "ans = isPalindrome(s)\n",
    "\n",
    "if ans:\n",
    "    print('Palindrome')\n",
    "else:\n",
    "    print('Not Palindrome')"
   ]
  },
  {
   "cell_type": "code",
   "execution_count": 37,
   "id": "75c41eef",
   "metadata": {},
   "outputs": [
    {
     "name": "stdout",
     "output_type": "stream",
     "text": [
      "k\n",
      "o\n"
     ]
    }
   ],
   "source": [
    "def ans(s):\n",
    "    \n",
    "    for i in range(0,int(len(s)/2)):\n",
    "        if True:\n",
    "            print(s[len(s)-i-1])\n",
    "            \n",
    "            \n",
    "s = 'kodok'\n",
    "sa = ans(s)"
   ]
  },
  {
   "cell_type": "code",
   "execution_count": null,
   "id": "b038ca4b",
   "metadata": {},
   "outputs": [],
   "source": []
  }
 ],
 "metadata": {
  "kernelspec": {
   "display_name": "Python 3",
   "language": "python",
   "name": "python3"
  },
  "language_info": {
   "codemirror_mode": {
    "name": "ipython",
    "version": 3
   },
   "file_extension": ".py",
   "mimetype": "text/x-python",
   "name": "python",
   "nbconvert_exporter": "python",
   "pygments_lexer": "ipython3",
   "version": "3.8.8"
  }
 },
 "nbformat": 4,
 "nbformat_minor": 5
}
